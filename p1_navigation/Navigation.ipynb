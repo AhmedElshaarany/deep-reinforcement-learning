{
 "cells": [
  {
   "cell_type": "markdown",
   "metadata": {},
   "source": [
    "# Navigation\n",
    "\n",
    "---\n",
    "\n",
    "In this notebook, you will learn how to use the Unity ML-Agents environment for the first project of the [Deep Reinforcement Learning Nanodegree](https://www.udacity.com/course/deep-reinforcement-learning-nanodegree--nd893).\n",
    "\n",
    "### 1. Start the Environment\n",
    "\n",
    "We begin by importing some necessary packages.  If the code cell below returns an error, please revisit the project instructions to double-check that you have installed [Unity ML-Agents](https://github.com/Unity-Technologies/ml-agents/blob/master/docs/Installation.md) and [NumPy](http://www.numpy.org/)."
   ]
  },
  {
   "cell_type": "code",
   "execution_count": 1,
   "metadata": {},
   "outputs": [],
   "source": [
    "from unityagents import UnityEnvironment\n",
    "import numpy as np"
   ]
  },
  {
   "cell_type": "markdown",
   "metadata": {},
   "source": [
    "Next, we will start the environment!  **_Before running the code cell below_**, change the `file_name` parameter to match the location of the Unity environment that you downloaded.\n",
    "\n",
    "- **Mac**: `\"path/to/Banana.app\"`\n",
    "- **Windows** (x86): `\"path/to/Banana_Windows_x86/Banana.exe\"`\n",
    "- **Windows** (x86_64): `\"path/to/Banana_Windows_x86_64/Banana.exe\"`\n",
    "- **Linux** (x86): `\"path/to/Banana_Linux/Banana.x86\"`\n",
    "- **Linux** (x86_64): `\"path/to/Banana_Linux/Banana.x86_64\"`\n",
    "- **Linux** (x86, headless): `\"path/to/Banana_Linux_NoVis/Banana.x86\"`\n",
    "- **Linux** (x86_64, headless): `\"path/to/Banana_Linux_NoVis/Banana.x86_64\"`\n",
    "\n",
    "For instance, if you are using a Mac, then you downloaded `Banana.app`.  If this file is in the same folder as the notebook, then the line below should appear as follows:\n",
    "```\n",
    "env = UnityEnvironment(file_name=\"Banana.app\")\n",
    "```"
   ]
  },
  {
   "cell_type": "code",
   "execution_count": 15,
   "metadata": {},
   "outputs": [
    {
     "name": "stderr",
     "output_type": "stream",
     "text": [
      "INFO:unityagents:\n",
      "'Academy' started successfully!\n",
      "Unity Academy name: Academy\n",
      "        Number of Brains: 1\n",
      "        Number of External Brains : 1\n",
      "        Lesson number : 0\n",
      "        Reset Parameters :\n",
      "\t\t\n",
      "Unity brain name: BananaBrain\n",
      "        Number of Visual Observations (per agent): 0\n",
      "        Vector Observation space type: continuous\n",
      "        Vector Observation space size (per agent): 37\n",
      "        Number of stacked Vector Observation: 1\n",
      "        Vector Action space type: discrete\n",
      "        Vector Action space size (per agent): 4\n",
      "        Vector Action descriptions: , , , \n"
     ]
    }
   ],
   "source": [
    "env = UnityEnvironment(file_name=\"Banana_Linux/Banana.x86_64\")"
   ]
  },
  {
   "cell_type": "markdown",
   "metadata": {},
   "source": [
    "Environments contain **_brains_** which are responsible for deciding the actions of their associated agents. Here we check for the first brain available, and set it as the default brain we will be controlling from Python."
   ]
  },
  {
   "cell_type": "code",
   "execution_count": 3,
   "metadata": {},
   "outputs": [],
   "source": [
    "# get the default brain\n",
    "brain_name = env.brain_names[0]\n",
    "brain = env.brains[brain_name]"
   ]
  },
  {
   "cell_type": "markdown",
   "metadata": {},
   "source": [
    "### 2. Examine the State and Action Spaces\n",
    "\n",
    "The simulation contains a single agent that navigates a large environment.  At each time step, it has four actions at its disposal:\n",
    "- `0` - walk forward \n",
    "- `1` - walk backward\n",
    "- `2` - turn left\n",
    "- `3` - turn right\n",
    "\n",
    "The state space has `37` dimensions and contains the agent's velocity, along with ray-based perception of objects around agent's forward direction.  A reward of `+1` is provided for collecting a yellow banana, and a reward of `-1` is provided for collecting a blue banana. \n",
    "\n",
    "Run the code cell below to print some information about the environment."
   ]
  },
  {
   "cell_type": "code",
   "execution_count": 4,
   "metadata": {},
   "outputs": [
    {
     "name": "stdout",
     "output_type": "stream",
     "text": [
      "Number of agents: 1\n",
      "Number of actions: 4\n",
      "States look like: [1.         0.         0.         0.         0.84408134 0.\n",
      " 0.         1.         0.         0.0748472  0.         1.\n",
      " 0.         0.         0.25755    1.         0.         0.\n",
      " 0.         0.74177343 0.         1.         0.         0.\n",
      " 0.25854847 0.         0.         1.         0.         0.09355672\n",
      " 0.         1.         0.         0.         0.31969345 0.\n",
      " 0.        ]\n",
      "States have length: 37\n"
     ]
    }
   ],
   "source": [
    "# reset the environment\n",
    "env_info = env.reset(train_mode=True)[brain_name]\n",
    "\n",
    "# number of agents in the environment\n",
    "print('Number of agents:', len(env_info.agents))\n",
    "\n",
    "# number of actions\n",
    "action_size = brain.vector_action_space_size\n",
    "print('Number of actions:', action_size)\n",
    "\n",
    "# examine the state space \n",
    "state = env_info.vector_observations[0]\n",
    "print('States look like:', state)\n",
    "state_size = len(state)\n",
    "print('States have length:', state_size)"
   ]
  },
  {
   "cell_type": "markdown",
   "metadata": {},
   "source": [
    "### 3. Take Random Actions in the Environment\n",
    "\n",
    "In the next code cell, you will learn how to use the Python API to control the agent and receive feedback from the environment.\n",
    "\n",
    "Once this cell is executed, you will watch the agent's performance, if it selects an action (uniformly) at random with each time step.  A window should pop up that allows you to observe the agent, as it moves through the environment.  \n",
    "\n",
    "Of course, as part of the project, you'll have to change the code so that the agent is able to use its experience to gradually choose better actions when interacting with the environment!"
   ]
  },
  {
   "cell_type": "code",
   "execution_count": 5,
   "metadata": {},
   "outputs": [
    {
     "name": "stdout",
     "output_type": "stream",
     "text": [
      "Score: 2.0\n"
     ]
    }
   ],
   "source": [
    "env_info = env.reset(train_mode=False)[brain_name] # reset the environment\n",
    "state = env_info.vector_observations[0]            # get the current state\n",
    "score = 0                                          # initialize the score\n",
    "while True:\n",
    "    action = np.random.randint(action_size)        # select an action\n",
    "    env_info = env.step(action)[brain_name]        # send the action to the environment\n",
    "    next_state = env_info.vector_observations[0]   # get the next state\n",
    "    reward = env_info.rewards[0]                   # get the reward\n",
    "    done = env_info.local_done[0]                  # see if episode has finished\n",
    "    score += reward                                # update the score\n",
    "    state = next_state                             # roll over the state to next time step\n",
    "    if done:                                       # exit loop if episode finished\n",
    "        break\n",
    "    \n",
    "print(\"Score: {}\".format(score))"
   ]
  },
  {
   "cell_type": "markdown",
   "metadata": {},
   "source": [
    "When finished, you can close the environment."
   ]
  },
  {
   "cell_type": "code",
   "execution_count": 6,
   "metadata": {},
   "outputs": [],
   "source": [
    "#env.close()"
   ]
  },
  {
   "cell_type": "markdown",
   "metadata": {},
   "source": [
    "### 4. It's Your Turn!\n",
    "\n",
    "Now it's your turn to train your own agent to solve the environment!  When training the environment, set `train_mode=True`, so that the line for resetting the environment looks like the following:\n",
    "```python\n",
    "env_info = env.reset(train_mode=True)[brain_name]\n",
    "```"
   ]
  },
  {
   "cell_type": "code",
   "execution_count": 7,
   "metadata": {},
   "outputs": [],
   "source": [
    "import torch\n",
    "from dqn_agent import Agent\n",
    "from collections import deque\n",
    "import matplotlib.pyplot as plt\n",
    "%matplotlib inline\n",
    "\n",
    "\n",
    "agent = Agent(state_size=37, action_size=4, seed=0)"
   ]
  },
  {
   "cell_type": "code",
   "execution_count": 8,
   "metadata": {},
   "outputs": [],
   "source": [
    "def dqn(n_episodes=2000, max_t=1000, eps_start=1.0, eps_end=0.01, eps_decay=0.995, pretrained_model=None):\n",
    "    \"\"\"Deep Q-Learning.\n",
    "    \n",
    "    Params\n",
    "    ======\n",
    "        n_episodes (int): maximum number of training episodes\n",
    "        max_t (int): maximum number of timesteps per episode\n",
    "        eps_start (float): starting value of epsilon, for epsilon-greedy action selection\n",
    "        eps_end (float): minimum value of epsilon\n",
    "        eps_decay (float): multiplicative factor (per episode) for decreasing epsilon\n",
    "    \"\"\"\n",
    "    if(pretrained_model):\n",
    "        agent.qnetwork_local.load_state_dict(torch.load(pretrained_model))\n",
    "    scores = []                        # list containing scores from each episode\n",
    "    scores_window = deque(maxlen=100)  # last 100 scores\n",
    "    eps = eps_start                    # initialize epsilon\n",
    "    for i_episode in range(1, n_episodes+1):\n",
    "        \n",
    "        env_info = env.reset(train_mode=True)[brain_name] # reset the environment\n",
    "        state = env_info.vector_observations[0]   # get the state\n",
    "        score = 0 # set score to 0\n",
    "        for t in range(max_t):\n",
    "            \n",
    "            # get agent action\n",
    "            action = agent.act(state, eps)\n",
    "            \n",
    "            # get environment info\n",
    "            env_info = env.step(action)[brain_name]        # send the action to the environment\n",
    "            next_state = env_info.vector_observations[0]   # get the next state\n",
    "            reward = env_info.rewards[0]                   # get the reward\n",
    "            done = env_info.local_done[0]                  # see if episode has finished\n",
    "            \n",
    "            #set agent\n",
    "            agent.step(state, action, reward, next_state, done)\n",
    "            state = next_state\n",
    "            score += reward\n",
    "            if done:\n",
    "                break \n",
    "        scores_window.append(score)       # save most recent score\n",
    "        scores.append(score)              # save most recent score\n",
    "        eps = max(eps_end, eps_decay*eps) # decrease epsilon\n",
    "        print('\\rEpisode {}\\tAverage Score: {:.2f}'.format(i_episode, np.mean(scores_window)), end=\"\")\n",
    "        if i_episode % 100 == 0:\n",
    "            print('\\rEpisode {}\\tAverage Score: {:.2f}'.format(i_episode, np.mean(scores_window)))\n",
    "        if np.mean(scores_window)>=13.0:\n",
    "            print('\\nEnvironment solved in {:d} episodes!\\tAverage Score: {:.2f}'.format(i_episode-100, np.mean(scores_window)))\n",
    "            torch.save(agent.qnetwork_local.state_dict(), 'checkpoint.pth')\n",
    "            break\n",
    "    return scores"
   ]
  },
  {
   "cell_type": "markdown",
   "metadata": {},
   "source": [
    "### 5. Training the model!\n",
    "\n",
    "The cell below trains the model for the specified number of episodes and breaks when an the average score reached is >= 13. The cell below also plots the score against the number of episdoes."
   ]
  },
  {
   "cell_type": "code",
   "execution_count": 11,
   "metadata": {},
   "outputs": [
    {
     "name": "stdout",
     "output_type": "stream",
     "text": [
      "Episode 100\tAverage Score: 0.44\n",
      "Episode 200\tAverage Score: 3.51\n",
      "Episode 300\tAverage Score: 6.56\n",
      "Episode 400\tAverage Score: 10.63\n",
      "Episode 495\tAverage Score: 13.06\n",
      "Environment solved in 395 episodes!\tAverage Score: 13.06\n"
     ]
    },
    {
     "data": {
      "image/png": "[encoded data removed]",
      "text/plain": [
       "<Figure size 432x288 with 1 Axes>"
      ]
     },
     "metadata": {
      "needs_background": "light"
     },
     "output_type": "display_data"
    }
   ],
   "source": [
    "scores = dqn(n_episodes=2000)\n",
    "\n",
    "# plot the scores\n",
    "fig = plt.figure()\n",
    "ax = fig.add_subplot(111)\n",
    "plt.plot(np.arange(len(scores)), scores)\n",
    "plt.ylabel('Score')\n",
    "plt.xlabel('Episode #')\n",
    "plt.show()"
   ]
  },
  {
   "cell_type": "markdown",
   "metadata": {},
   "source": [
    "### 6. Evaluating the model!\n",
    "\n",
    "The cell below evaluates the agent for the specified number of n_episodes and calculates the average score."
   ]
  },
  {
   "cell_type": "code",
   "execution_count": 16,
   "metadata": {
    "scrolled": true
   },
   "outputs": [
    {
     "name": "stdout",
     "output_type": "stream",
     "text": [
      "Score for episode 0 : 11.0\n",
      "Current score average 0 : 11.0\n",
      "Score for episode 1 : 7.0\n",
      "Current score average 1 : 9.0\n",
      "Score for episode 2 : 5.0\n",
      "Current score average 2 : 7.666666666666667\n",
      "Score for episode 3 : 22.0\n",
      "Current score average 3 : 11.25\n",
      "Score for episode 4 : 18.0\n",
      "Current score average 4 : 12.6\n",
      "Score for episode 5 : 17.0\n",
      "Current score average 5 : 13.333333333333334\n",
      "Score for episode 6 : 13.0\n",
      "Current score average 6 : 13.285714285714286\n",
      "Score for episode 7 : 21.0\n",
      "Current score average 7 : 14.25\n",
      "Score for episode 8 : 17.0\n",
      "Current score average 8 : 14.555555555555555\n",
      "Score for episode 9 : 21.0\n",
      "Current score average 9 : 15.2\n",
      "Score for episode 10 : 7.0\n",
      "Current score average 10 : 14.454545454545455\n",
      "Score for episode 11 : 19.0\n",
      "Current score average 11 : 14.833333333333334\n",
      "Score for episode 12 : 23.0\n",
      "Current score average 12 : 15.461538461538462\n",
      "Score for episode 13 : 18.0\n",
      "Current score average 13 : 15.642857142857142\n",
      "Score for episode 14 : 19.0\n",
      "Current score average 14 : 15.866666666666667\n",
      "Score for episode 15 : 5.0\n",
      "Current score average 15 : 15.1875\n",
      "Score for episode 16 : 17.0\n",
      "Current score average 16 : 15.294117647058824\n",
      "Score for episode 17 : 3.0\n",
      "Current score average 17 : 14.61111111111111\n",
      "Score for episode 18 : 20.0\n",
      "Current score average 18 : 14.894736842105264\n",
      "Score for episode 19 : 16.0\n",
      "Current score average 19 : 14.95\n",
      "Score for episode 20 : 16.0\n",
      "Current score average 20 : 15.0\n",
      "Score for episode 21 : 14.0\n",
      "Current score average 21 : 14.954545454545455\n",
      "Score for episode 22 : 15.0\n",
      "Current score average 22 : 14.956521739130435\n",
      "Score for episode 23 : 9.0\n",
      "Current score average 23 : 14.708333333333334\n",
      "Score for episode 24 : 18.0\n",
      "Current score average 24 : 14.84\n",
      "Score for episode 25 : 3.0\n",
      "Current score average 25 : 14.384615384615385\n",
      "Score for episode 26 : 19.0\n",
      "Current score average 26 : 14.555555555555555\n",
      "Score for episode 27 : 17.0\n",
      "Current score average 27 : 14.642857142857142\n",
      "Score for episode 28 : 9.0\n",
      "Current score average 28 : 14.448275862068966\n",
      "Score for episode 29 : 12.0\n",
      "Current score average 29 : 14.366666666666667\n",
      "Score for episode 30 : 22.0\n",
      "Current score average 30 : 14.612903225806452\n",
      "Score for episode 31 : 18.0\n",
      "Current score average 31 : 14.71875\n",
      "Score for episode 32 : 16.0\n",
      "Current score average 32 : 14.757575757575758\n",
      "Score for episode 33 : 10.0\n",
      "Current score average 33 : 14.617647058823529\n",
      "Score for episode 34 : 18.0\n",
      "Current score average 34 : 14.714285714285714\n",
      "Score for episode 35 : 22.0\n",
      "Current score average 35 : 14.916666666666666\n",
      "Score for episode 36 : 17.0\n",
      "Current score average 36 : 14.972972972972974\n",
      "Score for episode 37 : 1.0\n",
      "Current score average 37 : 14.605263157894736\n",
      "Score for episode 38 : 17.0\n",
      "Current score average 38 : 14.666666666666666\n",
      "Score for episode 39 : 11.0\n",
      "Current score average 39 : 14.575\n",
      "Score for episode 40 : 1.0\n",
      "Current score average 40 : 14.24390243902439\n",
      "Score for episode 41 : 14.0\n",
      "Current score average 41 : 14.238095238095237\n",
      "Score for episode 42 : 20.0\n",
      "Current score average 42 : 14.372093023255815\n",
      "Score for episode 43 : 5.0\n",
      "Current score average 43 : 14.159090909090908\n",
      "Score for episode 44 : 14.0\n",
      "Current score average 44 : 14.155555555555555\n",
      "Score for episode 45 : 17.0\n",
      "Current score average 45 : 14.217391304347826\n",
      "Score for episode 46 : 12.0\n",
      "Current score average 46 : 14.170212765957446\n",
      "Score for episode 47 : 15.0\n",
      "Current score average 47 : 14.1875\n",
      "Score for episode 48 : 17.0\n",
      "Current score average 48 : 14.244897959183673\n",
      "Score for episode 49 : 19.0\n",
      "Current score average 49 : 14.34\n",
      "Score for episode 50 : 7.0\n",
      "Current score average 50 : 14.196078431372548\n",
      "Score for episode 51 : 22.0\n",
      "Current score average 51 : 14.346153846153847\n",
      "Score for episode 52 : 3.0\n",
      "Current score average 52 : 14.132075471698114\n",
      "Score for episode 53 : 11.0\n",
      "Current score average 53 : 14.074074074074074\n",
      "Score for episode 54 : 14.0\n",
      "Current score average 54 : 14.072727272727272\n",
      "Score for episode 55 : 22.0\n",
      "Current score average 55 : 14.214285714285714\n",
      "Score for episode 56 : 25.0\n",
      "Current score average 56 : 14.403508771929825\n",
      "Score for episode 57 : 17.0\n",
      "Current score average 57 : 14.448275862068966\n",
      "Score for episode 58 : 9.0\n",
      "Current score average 58 : 14.35593220338983\n",
      "Score for episode 59 : 17.0\n",
      "Current score average 59 : 14.4\n",
      "Score for episode 60 : 18.0\n",
      "Current score average 60 : 14.459016393442623\n",
      "Score for episode 61 : 8.0\n",
      "Current score average 61 : 14.35483870967742\n",
      "Score for episode 62 : 8.0\n",
      "Current score average 62 : 14.253968253968255\n",
      "Score for episode 63 : 10.0\n",
      "Current score average 63 : 14.1875\n",
      "Score for episode 64 : 18.0\n",
      "Current score average 64 : 14.246153846153845\n",
      "Score for episode 65 : 18.0\n",
      "Current score average 65 : 14.303030303030303\n",
      "Score for episode 66 : 15.0\n",
      "Current score average 66 : 14.313432835820896\n",
      "Score for episode 67 : 22.0\n",
      "Current score average 67 : 14.426470588235293\n",
      "Score for episode 68 : 22.0\n",
      "Current score average 68 : 14.53623188405797\n",
      "Score for episode 69 : 1.0\n",
      "Current score average 69 : 14.342857142857143\n",
      "Score for episode 70 : 18.0\n",
      "Current score average 70 : 14.394366197183098\n",
      "Score for episode 71 : 19.0\n",
      "Current score average 71 : 14.458333333333334\n",
      "Score for episode 72 : 8.0\n",
      "Current score average 72 : 14.36986301369863\n",
      "Score for episode 73 : 7.0\n",
      "Current score average 73 : 14.27027027027027\n",
      "Score for episode 74 : 21.0\n",
      "Current score average 74 : 14.36\n",
      "Score for episode 75 : 7.0\n",
      "Current score average 75 : 14.263157894736842\n",
      "Score for episode 76 : 19.0\n",
      "Current score average 76 : 14.324675324675324\n",
      "Score for episode 77 : 18.0\n",
      "Current score average 77 : 14.371794871794872\n",
      "Score for episode 78 : 16.0\n",
      "Current score average 78 : 14.39240506329114\n",
      "Score for episode 79 : 16.0\n",
      "Current score average 79 : 14.4125\n",
      "Score for episode 80 : 16.0\n",
      "Current score average 80 : 14.432098765432098\n",
      "Score for episode 81 : 8.0\n",
      "Current score average 81 : 14.353658536585366\n",
      "Score for episode 82 : 23.0\n",
      "Current score average 82 : 14.457831325301205\n",
      "Score for episode 83 : 17.0\n",
      "Current score average 83 : 14.488095238095237\n",
      "Score for episode 84 : 15.0\n",
      "Current score average 84 : 14.494117647058824\n",
      "Score for episode 85 : 24.0\n",
      "Current score average 85 : 14.604651162790697\n",
      "Score for episode 86 : 15.0\n",
      "Current score average 86 : 14.60919540229885\n",
      "Score for episode 87 : 9.0\n",
      "Current score average 87 : 14.545454545454545\n",
      "Score for episode 88 : 10.0\n",
      "Current score average 88 : 14.49438202247191\n",
      "Score for episode 89 : 5.0\n",
      "Current score average 89 : 14.38888888888889\n",
      "Score for episode 90 : 17.0\n",
      "Current score average 90 : 14.417582417582418\n",
      "Score for episode 91 : 17.0\n",
      "Current score average 91 : 14.445652173913043\n",
      "Score for episode 92 : 20.0\n",
      "Current score average 92 : 14.505376344086022\n",
      "Score for episode 93 : 21.0\n",
      "Current score average 93 : 14.574468085106384\n",
      "Score for episode 94 : 19.0\n",
      "Current score average 94 : 14.621052631578948\n",
      "Score for episode 95 : 14.0\n",
      "Current score average 95 : 14.614583333333334\n",
      "Score for episode 96 : 5.0\n",
      "Current score average 96 : 14.515463917525773\n",
      "Score for episode 97 : 13.0\n",
      "Current score average 97 : 14.5\n",
      "Score for episode 98 : 1.0\n",
      "Current score average 98 : 14.363636363636363\n",
      "Score for episode 99 : 3.0\n",
      "Current score average 99 : 14.25\n",
      "Final Total Score for 100 episodes: 1425.0\n",
      "Final Avg score over 100 episodes: 14.25\n"
     ]
    }
   ],
   "source": [
    "agent.qnetwork_local.load_state_dict(torch.load('checkpoint.pth'))\n",
    "\n",
    "scores = []                                         # initialize the scores list\n",
    "n_episodes = 100\n",
    "eps = 0.\n",
    "\n",
    "for i in range(n_episodes):\n",
    "    \n",
    "    env_info = env.reset(train_mode=False)[brain_name] # reset the environment\n",
    "    state = env_info.vector_observations[0]            # get the current state\n",
    "    \n",
    "    episode_score = 0\n",
    "    while True:\n",
    "        action = agent.act(state, eps)                 # get agent's action\n",
    "        env_info = env.step(action)[brain_name]        # send the action to the environment\n",
    "        next_state = env_info.vector_observations[0]   # get the next state\n",
    "        reward = env_info.rewards[0]                   # get the reward\n",
    "        done = env_info.local_done[0]                  # see if episode has finished\n",
    "        episode_score += reward                        # update the score\n",
    "        state = next_state                             # roll over the state to next time step\n",
    "        if done:                                       # exit loop if episode finished\n",
    "            break\n",
    "    \n",
    "    scores.append(episode_score)\n",
    "    print(\"Score for episode \"+str(i)+\" : \"+str(episode_score))\n",
    "    print(\"Current score average \"+str(i)+\" : \"+str(np.mean(scores)))\n",
    "    \n",
    "print(\"Final Total Score for 100 episodes: {}\".format(np.sum(scores)))\n",
    "print(\"Final Avg score over 100 episodes: {}\".format(np.mean(scores)))"
   ]
  },
  {
   "cell_type": "code",
   "execution_count": 17,
   "metadata": {},
   "outputs": [
    {
     "data": {
      "image/png": "[encoded data removed]",
      "text/plain": [
       "<Figure size 432x288 with 1 Axes>"
      ]
     },
     "metadata": {
      "needs_background": "light"
     },
     "output_type": "display_data"
    }
   ],
   "source": [
    "# plot the scores\n",
    "fig = plt.figure()\n",
    "ax = fig.add_subplot(111)\n",
    "plt.plot(np.arange(len(scores)), scores)\n",
    "plt.ylabel('Score')\n",
    "plt.xlabel('Episode #')\n",
    "plt.axhline(np.mean(scores), color='r', linestyle='dashed', linewidth=2)\n",
    "plt.show()"
   ]
  },
  {
   "cell_type": "code",
   "execution_count": null,
   "metadata": {},
   "outputs": [],
   "source": []
  }
 ],
 "metadata": {
  "kernelspec": {
   "display_name": "drlnd",
   "language": "python",
   "name": "drlnd"
  },
  "language_info": {
   "codemirror_mode": {
    "name": "ipython",
    "version": 3
   },
   "file_extension": ".py",
   "mimetype": "text/x-python",
   "name": "python",
   "nbconvert_exporter": "python",
   "pygments_lexer": "ipython3",
   "version": "3.6.13"
  }
 },
 "nbformat": 4,
 "nbformat_minor": 2
}
